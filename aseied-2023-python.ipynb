{
 "cells": [
  {
   "cell_type": "code",
   "execution_count": null,
   "metadata": {},
   "outputs": [],
   "source": [
    "# Installing newest version of pip to resolve compatibility issues\n",
    "# requests for fetching terrain tile data, matplotlib for visualisation\n",
    "# sc is the default spark context\n",
    "sc.install_pypi_package(\"pip==23.2.1\")\n",
    "sc.install_pypi_package(\"requests\")\n",
    "sc.install_pypi_package(\"matplotlib\")"
   ]
  },
  {
   "cell_type": "code",
   "execution_count": null,
   "metadata": {},
   "outputs": [],
   "source": [
    "# stdlib imports\n",
    "from time import time\n",
    "from itertools import product\n",
    "from typing import Tuple, List, NamedTuple\n",
    "from collections import namedtuple\n",
    "\n",
    "# util libraries imports\n",
    "import numpy as np\n",
    "import matplotlib.pyplot as plt\n",
    "\n",
    "# PySpark related imports\n",
    "from pyspark.sql.types import IntegerType\n",
    "import pyspark.sql.functions as spark_func\n"
   ]
  },
  {
   "cell_type": "code",
   "execution_count": null,
   "metadata": {},
   "outputs": [],
   "source": [
    "Tile: NamedTuple = namedtuple(\"Tile\", (\"zoom\", \"x\", \"y\"))\n",
    "\n",
    "TEMP_DIR: str = \"data\"\n",
    "DATASET_URL_FORMAT: str = \"s3://elevation-tiles-prod/terrarium\"\n",
    "ZOOM: int = 3\n",
    "BOUNDS: Tuple[float] = (71.691037, -163.084981, -58.205805, -28.365288)\n",
    "TILE_WIDTH: int = 256\n",
    "TILE_HEIGHT: int = 256\n",
    "CHANNELS_NUM: int = 3\n",
    "RED_CHANNEL_MULTIPLIER: int = 256\n",
    "GREEN_CHANNEL_MULTIPLIER: int = 1\n",
    "BLUE_CHANNEL_MULTIPLIER: int = 1/256\n",
    "INCREMENT_OFFSET: int = 32768\n",
    "GRADIENT_GROUPS: dict[int, int] = {\n",
    "    0: 2,\n",
    "    1: 10,\n",
    "    2: 50,\n",
    "    3: 150,\n",
    "    4: 500,\n",
    "    5: 1500\n",
    "}"
   ]
  }
 ],
 "metadata": {
  "language_info": {
   "name": "python"
  },
  "orig_nbformat": 4
 },
 "nbformat": 4,
 "nbformat_minor": 2
}
