{
 "cells": [
  {
   "cell_type": "markdown",
   "metadata": {},
   "source": [
    "## \"Raw\" notebook\n",
    "This is the raw jupyter notebook used for analysis. If you wish to reproduce our results, run all cells of this notebook in a properly setup EMR notebook."
   ]
  },
  {
   "cell_type": "code",
   "execution_count": null,
   "metadata": {},
   "outputs": [],
   "source": [
    "# Installing newest version of pip to resolve compatibility issues\n",
    "# requests for fetching terrain tile data, matplotlib for visualisation\n",
    "# sc is the default spark context\n",
    "sc.install_pypi_package(\"pip==23.2.1\")\n",
    "sc.install_pypi_package(\"requests\")\n",
    "sc.install_pypi_package(\"matplotlib\")"
   ]
  },
  {
   "cell_type": "code",
   "execution_count": null,
   "metadata": {},
   "outputs": [],
   "source": [
    "# stdlib imports\n",
    "from time import time\n",
    "from itertools import product\n",
    "from typing import Tuple, List, NamedTuple\n",
    "from collections import namedtuple\n",
    "\n",
    "# util libraries imports\n",
    "import numpy as np\n",
    "import matplotlib.pyplot as plt\n",
    "\n",
    "# PySpark related imports\n",
    "from pyspark.sql.types import IntegerType\n",
    "import pyspark.sql.functions as spark_func\n"
   ]
  },
  {
   "cell_type": "code",
   "execution_count": null,
   "metadata": {},
   "outputs": [],
   "source": [
    "# Constants used throughout the notebook\n",
    "Tile: NamedTuple = namedtuple(\"Tile\", (\"zoom\", \"x\", \"y\"))\n",
    "\n",
    "TEMP_DIR: str = \"data\"\n",
    "DATASET_URL_FORMAT: str = \"s3://elevation-tiles-prod/terrarium\"\n",
    "ZOOM: int = 3\n",
    "BOUNDS: Tuple[float] = (71.691037, -163.084981, -58.205805, -28.365288)\n",
    "TILE_WIDTH: int = 256\n",
    "TILE_HEIGHT: int = 256\n",
    "CHANNELS_NUM: int = 3\n",
    "RED_CHANNEL_MULTIPLIER: int = 256\n",
    "GREEN_CHANNEL_MULTIPLIER: int = 1\n",
    "BLUE_CHANNEL_MULTIPLIER: int = 1/256\n",
    "INCREMENT_OFFSET: int = 32768\n",
    "GRADIENT_GROUPS: dict[int, int] = {\n",
    "    0: 2,\n",
    "    1: 10,\n",
    "    2: 50,\n",
    "    3: 150,\n",
    "    4: 500,\n",
    "    5: 1500\n",
    "}"
   ]
  },
  {
   "cell_type": "markdown",
   "metadata": {},
   "source": [
    "## Functions related to transforming data, later used as map functions on the RDD "
   ]
  },
  {
   "cell_type": "code",
   "execution_count": null,
   "metadata": {},
   "outputs": [],
   "source": [
    "def mercator_projection(lat: float, lon: float, zoom: int) -> Tuple[int, int, int]:\n",
    "    \"\"\"\n",
    "    Convert latitude, longitude to z/x/y tile coordinate at given zoom.\n",
    "\n",
    "    Parameters:\n",
    "    - lat (float): Latitude in degrees.\n",
    "    - lon (float): Longitude in degrees.\n",
    "    - zoom (int): Zoom level.\n",
    "\n",
    "    Returns:\n",
    "    - Tuple[int, int, int]: A tuple containing the zoom level, x and y tile coordinates.\n",
    "    \"\"\"\n",
    "    # Convert latitude and longitude to radians\n",
    "    x1: float = lon * np.pi / 180.\n",
    "    y1: float = lat * np.pi / 180.\n",
    "\n",
    "    # Mercator projection https://en.wikipedia.org/wiki/Mercator_projection\n",
    "    x2 = x1\n",
    "    y2 =  np.log(np.tan(0.25 * np.pi + 0.5 * y1))\n",
    "\n",
    "    # Transform to tile space\n",
    "    tiles = 2 ** zoom\n",
    "    diameter =  2 * np.pi\n",
    "    x3 = int(tiles * (x2 + np.pi) / diameter)\n",
    "    y3 = int(tiles * (np.pi - y2) / diameter)\n",
    "\n",
    "    return zoom, x3, y3\n",
    "\n",
    "\n",
    "def get_elevation(tile: np.ndarray) -> np.ndarray:\n",
    "    \"\"\"\n",
    "    Calculates elevation for an entire map tile.\n",
    "\n",
    "    Parameters:\n",
    "    - tile (np.ndarray): A NumPy array representing the tile.\n",
    "\n",
    "    Returns:\n",
    "    - np.ndarray: A NumPy array containing the elevation values.\n",
    "    \"\"\"\n",
    "    return np.array([list(map(calculate_elevation, row)) for row in tile])\n"
   ]
  },
  {
   "cell_type": "markdown",
   "metadata": {},
   "source": [
    "## Functions related to fetching data and other miscellanous transformations"
   ]
  },
  {
   "cell_type": "code",
   "execution_count": null,
   "metadata": {},
   "outputs": [],
   "source": [
    "def get_tiles(zoom: int, lat1: float, lon1: float, lat2: float, lon2: float) -> List[Tile]:\n",
    "    \"\"\"\n",
    "    Convert geographic bounds into a list of tile coordinates at given zoom.\n",
    "\n",
    "    Parameters:\n",
    "    - zoom (int): Zoom level.\n",
    "    - lat1, lon1, lat2, lon2 (float): Geographic bounds.\n",
    "\n",
    "    Returns:\n",
    "    - List[Tile]: A list of Tile namedtuples.\n",
    "    \"\"\"\n",
    "    # Convert to geographic bounding box\n",
    "    min_lat = min(lat1, lat2)\n",
    "    min_lon =  min(lon1, lon2)\n",
    "    max_lat = max(lat1, lat2)\n",
    "    max_lon =  max(lon1, lon2)\n",
    "\n",
    "    # Convert to tile-space bounding box\n",
    "    _, xmin, ymin = mercator_projection(max_lat, min_lon, zoom)\n",
    "    _, xmax, ymax = mercator_projection(min_lat, max_lon, zoom)\n",
    "\n",
    "    # Generate a list of tiles\n",
    "    xs = range(xmin, xmax+1)\n",
    "    ys = range(ymin, ymax+1)\n",
    "\n",
    "    return [Tile(zoom, x, y) for (y, x) in product(ys, xs)]\n",
    "\n",
    "def generate_links(tiles: List[Tile]) -> List[str]:\n",
    "    \"\"\"\n",
    "    Returns links to s3 bucket for given tiles.\n",
    "\n",
    "    Parameters:\n",
    "    - tiles (List[Tile]): A list of Tile namedtuples.\n",
    "\n",
    "    Returns:\n",
    "    - List[str]: A list of URLs.\n",
    "    \"\"\"\n",
    "    return [f\"{DATASET_URL_FORMAT}/{tile.zoom}/{tile.x}/{tile.y}.png\" for tile in tiles]\n"
   ]
  },
  {
   "cell_type": "markdown",
   "metadata": {},
   "source": [
    "## Functions related to elevations, whether it's coloring the map or calculating color of a pixel that should be displayed"
   ]
  },
  {
   "cell_type": "code",
   "execution_count": null,
   "metadata": {},
   "outputs": [],
   "source": []
  }
 ],
 "metadata": {
  "language_info": {
   "name": "python"
  },
  "orig_nbformat": 4
 },
 "nbformat": 4,
 "nbformat_minor": 2
}
